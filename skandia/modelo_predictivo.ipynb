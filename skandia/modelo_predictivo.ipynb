{
 "cells": [
  {
   "cell_type": "code",
   "execution_count": null,
   "id": "initial_id",
   "metadata": {
    "collapsed": true,
    "is_executing": true
   },
   "outputs": [],
   "source": [
    "import pyarrow.parquet as pq\n",
    "import pandas as pd\n",
    "\n",
    "# clientes = pq.read_table('0clientes.parquet').to_pandas()\n",
    "saldos = pq.read_table('0saldos.parquet').to_pandas()\n",
    "saldos = saldos.loc[saldos['TipoDocum'] == 'C ']\n",
    "# clientes = clientes.loc[clientes['TIPODOCUM'] == 'C']\n",
    "# saldos\n",
    "conteo_contratos_por_cliente = saldos.groupby('NroDocum').agg(\n",
    "    # Numero_de_Contratos_Activos=('Contrato', 'count'),  # Conteo de contratos por cliente\n",
    "    Contrato=('Contrato', list),\n",
    "    Saldo2022Aug=('SALDO_202210', list),\n",
    "    # NumeroProductos=('PlanProducto', 'count'),  # Conteo de productos por contrato\n",
    "    Productos=('PlanProducto', list)\n",
    ")\n",
    "\n",
    "\n",
    "# print(conteo_contratos_por_cliente.head())\n",
    "# missings = set(saldos.NroDocum.drop_duplicates().values) - set(clientes.NroDocum.values)\n",
    "# print(missings)\n",
    "\n"
   ]
  },
  {
   "cell_type": "code",
   "outputs": [
    {
     "data": {
      "text/plain": "        Contrato FechaEfectiva  ValorTransaccion Productos\n180926   8774634    2007-07-01     -2.504880e+06    [7256]\n180927   8774634    2007-09-01     -2.813080e+05    [7256]\n180928   8774634    2008-04-01     -6.010790e+05    [7256]\n180929   8774634    2009-01-01     -8.999500e+04    [7256]\n180930   8774634    2010-09-01     -6.781670e+05    [7256]\n...          ...           ...               ...       ...\n180996   8774634    2022-06-01      3.748732e+08    [7256]\n180997   8774634    2022-07-01      2.882305e+08    [7256]\n180998   8774634    2022-08-01      7.750249e+08    [7256]\n180999   8774634    2022-09-01      7.055359e+08    [7256]\n181000   8774634    2022-10-01      1.514945e+10    [7256]\n\n[75 rows x 4 columns]",
      "text/html": "<div>\n<style scoped>\n    .dataframe tbody tr th:only-of-type {\n        vertical-align: middle;\n    }\n\n    .dataframe tbody tr th {\n        vertical-align: top;\n    }\n\n    .dataframe thead th {\n        text-align: right;\n    }\n</style>\n<table border=\"1\" class=\"dataframe\">\n  <thead>\n    <tr style=\"text-align: right;\">\n      <th></th>\n      <th>Contrato</th>\n      <th>FechaEfectiva</th>\n      <th>ValorTransaccion</th>\n      <th>Productos</th>\n    </tr>\n  </thead>\n  <tbody>\n    <tr>\n      <th>180926</th>\n      <td>8774634</td>\n      <td>2007-07-01</td>\n      <td>-2.504880e+06</td>\n      <td>[7256]</td>\n    </tr>\n    <tr>\n      <th>180927</th>\n      <td>8774634</td>\n      <td>2007-09-01</td>\n      <td>-2.813080e+05</td>\n      <td>[7256]</td>\n    </tr>\n    <tr>\n      <th>180928</th>\n      <td>8774634</td>\n      <td>2008-04-01</td>\n      <td>-6.010790e+05</td>\n      <td>[7256]</td>\n    </tr>\n    <tr>\n      <th>180929</th>\n      <td>8774634</td>\n      <td>2009-01-01</td>\n      <td>-8.999500e+04</td>\n      <td>[7256]</td>\n    </tr>\n    <tr>\n      <th>180930</th>\n      <td>8774634</td>\n      <td>2010-09-01</td>\n      <td>-6.781670e+05</td>\n      <td>[7256]</td>\n    </tr>\n    <tr>\n      <th>...</th>\n      <td>...</td>\n      <td>...</td>\n      <td>...</td>\n      <td>...</td>\n    </tr>\n    <tr>\n      <th>180996</th>\n      <td>8774634</td>\n      <td>2022-06-01</td>\n      <td>3.748732e+08</td>\n      <td>[7256]</td>\n    </tr>\n    <tr>\n      <th>180997</th>\n      <td>8774634</td>\n      <td>2022-07-01</td>\n      <td>2.882305e+08</td>\n      <td>[7256]</td>\n    </tr>\n    <tr>\n      <th>180998</th>\n      <td>8774634</td>\n      <td>2022-08-01</td>\n      <td>7.750249e+08</td>\n      <td>[7256]</td>\n    </tr>\n    <tr>\n      <th>180999</th>\n      <td>8774634</td>\n      <td>2022-09-01</td>\n      <td>7.055359e+08</td>\n      <td>[7256]</td>\n    </tr>\n    <tr>\n      <th>181000</th>\n      <td>8774634</td>\n      <td>2022-10-01</td>\n      <td>1.514945e+10</td>\n      <td>[7256]</td>\n    </tr>\n  </tbody>\n</table>\n<p>75 rows × 4 columns</p>\n</div>"
     },
     "execution_count": 81,
     "metadata": {},
     "output_type": "execute_result"
    }
   ],
   "source": [
    "from datetime import datetime as dt\n",
    "import numpy\n",
    "\n",
    "transferencias = pq.read_table('0transferencias.parquet').to_pandas()\n",
    "# transferencias.nunique()\n",
    "transferencias.drop(\n",
    "    columns=['Usuario', 'CodDestino', 'CodTipoGiro', 'CodBancoDestinoACH', 'CodBancoSkandia', 'TipoCtaACH', 'TipoOper',\n",
    "             'EstadoReverso'], inplace=True)\n",
    "transferencias.sort_values(by='FechaEfectiva', ascending=True, inplace=True)\n",
    "transferencias.FechaEfectiva = pd.to_datetime(transferencias.FechaEfectiva, format='%Y-%m-%d')\n",
    "\n",
    "# dt(2019, 1, 1)\n",
    "# print(transferencias.FechaEfectiva.drop_duplicates().values)\n",
    "\n",
    "# Agrupar las transacciones por mes y sumar los valores\n",
    "transferencias = transferencias.groupby(\n",
    "    [transferencias['Contrato'], transferencias['FechaEfectiva'].dt.to_period('M')], as_index=False\n",
    ").agg(\n",
    "    FechaEfectiva=('FechaEfectiva', 'first'),\n",
    "    ValorTransaccion=('ValorNeto', 'sum'),\n",
    "    Productos=('PlanProducto', list)\n",
    ")\n",
    "transferencias['FechaEfectiva'] = transferencias['FechaEfectiva'].dt.strftime('%Y-%m-01')\n",
    "transferencias['Productos'] = transferencias['Productos'].apply(lambda x: list(set(x)))\n"
   ],
   "metadata": {
    "collapsed": false,
    "ExecuteTime": {
     "end_time": "2024-03-28T22:51:43.863490Z",
     "start_time": "2024-03-28T22:51:41.730277Z"
    }
   },
   "id": "be63719d2cb6cd9b",
   "execution_count": 81
  },
  {
   "cell_type": "code",
   "outputs": [],
   "source": [],
   "metadata": {
    "collapsed": false,
    "ExecuteTime": {
     "end_time": "2024-03-28T22:13:13.427046Z",
     "start_time": "2024-03-28T22:13:13.416675Z"
    }
   },
   "id": "af93361998f09564",
   "execution_count": 39
  }
 ],
 "metadata": {
  "kernelspec": {
   "display_name": "Python 3",
   "language": "python",
   "name": "python3"
  },
  "language_info": {
   "codemirror_mode": {
    "name": "ipython",
    "version": 2
   },
   "file_extension": ".py",
   "mimetype": "text/x-python",
   "name": "python",
   "nbconvert_exporter": "python",
   "pygments_lexer": "ipython2",
   "version": "2.7.6"
  }
 },
 "nbformat": 4,
 "nbformat_minor": 5
}
