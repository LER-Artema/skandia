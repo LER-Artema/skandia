{
 "cells": [
  {
   "cell_type": "markdown",
   "source": [
    "### Evaluación Científico de Datos Jr \n",
    "\n",
    "Modelo predictivo que muestre la probabilidad de que un\n",
    "CLIENTE retire el 70% o más de su saldo en los siguientes 3 meses\n",
    "\n",
    "-Primer paso\n",
    "Se realiza la lectura de los saldos y se busca estandarizar la información para un manejo más sencillo de los datos. \n",
    "Realizamos una agrupación a nivel ID del cliente para saber su saldo, qué contratos y que productos tiene activos, incluyendo el historial de su saldo mensual"
   ],
   "metadata": {
    "collapsed": false
   },
   "id": "9e4e7f04613dbe8"
  },
  {
   "cell_type": "code",
   "outputs": [
    {
     "data": {
      "text/plain": "                                                 Contrato           Productos  \\\nNroDocum                                                                        \n1000001634                                      [9950268]              [4899]   \n1000004345  [8629082, 6261343, 6133677, 9374655, 5919728]        [3376, 8404]   \n1000005362                                      [6845989]              [7256]   \n1000005396                                      [5835760]              [7256]   \n1000007479                                      [2779865]              [8404]   \n1000007557                                      [7095683]              [7256]   \n1000008577                                      [4620527]              [6803]   \n1000008826                    [2712448, 7337966, 5048101]              [7256]   \n1000009088                                      [5863862]              [7256]   \n1000009152                                      [6053184]              [8404]   \n1000014510                    [2693232, 4583487, 2040989]              [7256]   \n1000016523                             [1115146, 1757806]              [7256]   \n1000019316                                       [959431]              [7256]   \n1000022061                                      [8080736]              [7256]   \n1000023105                    [4883411, 4949565, 1378120]        [7256, 3376]   \n1000025338                                      [5214744]              [8404]   \n1000029335    [867595, 8259296, 1356475, 698623, 2517853]  [3376, 7256, 5149]   \n1000031342                      [305779, 7754438, 588029]              [3376]   \n1000031391                                      [4481719]              [8404]   \n1000033657                                      [6701526]              [7256]   \n\n            SALDO_202101  SALDO_2021O2  SALDO_2021O3  SALDO_2021O4  \\\nNroDocum                                                             \n1000001634   47092297.99   46315661.29   45229127.61   45298456.10   \n1000004345          0.00          0.00          0.00          0.00   \n1000005362          0.00          0.00          0.00          0.00   \n1000005396          0.00          0.00          0.00          0.00   \n1000007479   90932411.58   93993197.01   96553396.47   99759806.09   \n1000007557          0.00          0.00          0.00          0.00   \n1000008577          0.00          0.00          0.00          0.00   \n1000008826          0.00          0.00          0.00          0.00   \n1000009088          0.00          0.00          0.00          0.00   \n1000009152          0.00          0.00          0.00          0.00   \n1000014510          0.00          0.00          0.00          0.00   \n1000016523          0.00          0.00          0.00          0.00   \n1000019316          0.00          0.00          0.00          0.00   \n1000022061          0.00          0.00          0.00          0.00   \n1000023105          0.00          0.00          0.00          0.00   \n1000025338          0.00          0.00          0.00          0.00   \n1000029335          0.00          0.00          0.00          0.00   \n1000031342          0.00          0.00          0.00          0.00   \n1000031391   86798041.35   86355391.89   84853932.59   85202839.92   \n1000033657          0.00          0.00          0.00          0.00   \n\n            SALDO_2021O5  SALDO_2021O6  SALDO_2021O7  SALDO_2021O8  ...  \\\nNroDocum                                                            ...   \n1000001634   47140239.11  4.692357e+07  5.173611e+07  5.086159e+07  ...   \n1000004345          0.00  0.000000e+00  0.000000e+00  0.000000e+00  ...   \n1000005362          0.00  0.000000e+00  0.000000e+00  0.000000e+00  ...   \n1000005396          0.00  0.000000e+00  0.000000e+00  0.000000e+00  ...   \n1000007479   99628363.77  1.088142e+08  1.089287e+08  1.152094e+08  ...   \n1000007557          0.00  0.000000e+00  0.000000e+00  0.000000e+00  ...   \n1000008577          0.00  0.000000e+00  0.000000e+00  0.000000e+00  ...   \n1000008826          0.00  0.000000e+00  0.000000e+00  0.000000e+00  ...   \n1000009088          0.00  0.000000e+00  0.000000e+00  0.000000e+00  ...   \n1000009152          0.00  0.000000e+00  0.000000e+00  0.000000e+00  ...   \n1000014510          0.00  0.000000e+00  0.000000e+00  0.000000e+00  ...   \n1000016523          0.00  0.000000e+00  0.000000e+00  0.000000e+00  ...   \n1000019316          0.00  0.000000e+00  0.000000e+00  0.000000e+00  ...   \n1000022061          0.00  0.000000e+00  0.000000e+00  0.000000e+00  ...   \n1000023105          0.00  0.000000e+00  0.000000e+00  0.000000e+00  ...   \n1000025338          0.00  0.000000e+00  0.000000e+00  0.000000e+00  ...   \n1000029335          0.00  0.000000e+00  0.000000e+00  0.000000e+00  ...   \n1000031342          0.00  0.000000e+00  0.000000e+00  0.000000e+00  ...   \n1000031391   84888894.86  8.509949e+07  8.512865e+07  8.589255e+07  ...   \n1000033657          0.00  0.000000e+00  0.000000e+00  0.000000e+00  ...   \n\n            SALDO_202112  SALDO_202201  SALDO_202202  SALDO_202203  \\\nNroDocum                                                             \n1000001634  5.161528e+07  4.999541e+07  5.090699e+07  4.823857e+07   \n1000004345  0.000000e+00  0.000000e+00  0.000000e+00  0.000000e+00   \n1000005362  0.000000e+00  0.000000e+00  0.000000e+00  0.000000e+00   \n1000005396  0.000000e+00  0.000000e+00  0.000000e+00  0.000000e+00   \n1000007479  1.269493e+08  1.304447e+08  1.304298e+08  1.365314e+08   \n1000007557  0.000000e+00  0.000000e+00  0.000000e+00  0.000000e+00   \n1000008577  0.000000e+00  0.000000e+00  0.000000e+00  0.000000e+00   \n1000008826  0.000000e+00  0.000000e+00  0.000000e+00  0.000000e+00   \n1000009088  0.000000e+00  0.000000e+00  0.000000e+00  0.000000e+00   \n1000009152  0.000000e+00  0.000000e+00  0.000000e+00  0.000000e+00   \n1000014510  0.000000e+00  0.000000e+00  0.000000e+00  0.000000e+00   \n1000016523  0.000000e+00  0.000000e+00  0.000000e+00  0.000000e+00   \n1000019316  0.000000e+00  0.000000e+00  0.000000e+00  0.000000e+00   \n1000022061  0.000000e+00  0.000000e+00  0.000000e+00  0.000000e+00   \n1000023105  0.000000e+00  0.000000e+00  0.000000e+00  0.000000e+00   \n1000025338  0.000000e+00  0.000000e+00  0.000000e+00  0.000000e+00   \n1000029335  0.000000e+00  0.000000e+00  0.000000e+00  0.000000e+00   \n1000031342  0.000000e+00  0.000000e+00  0.000000e+00  0.000000e+00   \n1000031391  8.535468e+07  8.533468e+07  8.505437e+07  8.509428e+07   \n1000033657  0.000000e+00  0.000000e+00  0.000000e+00  0.000000e+00   \n\n            SALDO_202204  SALDO_202205  SALDO_202206  SALDO_202207  \\\nNroDocum                                                             \n1000001634   50249882.12   48430969.50   48976166.48   50399995.40   \n1000004345          0.00          0.00          0.00          0.00   \n1000005362          0.00          0.00          0.00          0.00   \n1000005396          0.00          0.00          0.00          0.00   \n1000007479   36996395.24   39371555.32   42176765.55   45424357.88   \n1000007557          0.00          0.00          0.00          0.00   \n1000008577          0.00          0.00          0.00          0.00   \n1000008826          0.00          0.00          0.00          0.00   \n1000009088          0.00          0.00          0.00          0.00   \n1000009152          0.00          0.00          0.00          0.00   \n1000014510          0.00          0.00          0.00          0.00   \n1000016523          0.00          0.00          0.00          0.00   \n1000019316          0.00          0.00          0.00          0.00   \n1000022061          0.00          0.00          0.00          0.00   \n1000023105          0.00          0.00          0.00          0.00   \n1000025338          0.00          0.00          0.00          0.00   \n1000029335          0.00          0.00          0.00          0.00   \n1000031342          0.00          0.00          0.00          0.00   \n1000031391   84658168.92   81466417.69   83839682.14   84389540.09   \n1000033657          0.00          0.00          0.00          0.00   \n\n            SALDO_202208  SALDO_202210  \nNroDocum                                \n1000001634   49148602.10  4.967498e+07  \n1000004345          0.00  0.000000e+00  \n1000005362          0.00  0.000000e+00  \n1000005396          0.00  0.000000e+00  \n1000007479   50964795.04  2.548386e+08  \n1000007557          0.00  0.000000e+00  \n1000008577          0.00  0.000000e+00  \n1000008826          0.00  0.000000e+00  \n1000009088          0.00  0.000000e+00  \n1000009152          0.00  0.000000e+00  \n1000014510          0.00  0.000000e+00  \n1000016523          0.00  0.000000e+00  \n1000019316          0.00  0.000000e+00  \n1000022061          0.00  0.000000e+00  \n1000023105          0.00  0.000000e+00  \n1000025338          0.00  0.000000e+00  \n1000029335          0.00  0.000000e+00  \n1000031342          0.00  0.000000e+00  \n1000031391   85699850.96  1.437901e+08  \n1000033657          0.00  0.000000e+00  \n\n[20 rows x 23 columns]",
      "text/html": "<div>\n<style scoped>\n    .dataframe tbody tr th:only-of-type {\n        vertical-align: middle;\n    }\n\n    .dataframe tbody tr th {\n        vertical-align: top;\n    }\n\n    .dataframe thead th {\n        text-align: right;\n    }\n</style>\n<table border=\"1\" class=\"dataframe\">\n  <thead>\n    <tr style=\"text-align: right;\">\n      <th></th>\n      <th>Contrato</th>\n      <th>Productos</th>\n      <th>SALDO_202101</th>\n      <th>SALDO_2021O2</th>\n      <th>SALDO_2021O3</th>\n      <th>SALDO_2021O4</th>\n      <th>SALDO_2021O5</th>\n      <th>SALDO_2021O6</th>\n      <th>SALDO_2021O7</th>\n      <th>SALDO_2021O8</th>\n      <th>...</th>\n      <th>SALDO_202112</th>\n      <th>SALDO_202201</th>\n      <th>SALDO_202202</th>\n      <th>SALDO_202203</th>\n      <th>SALDO_202204</th>\n      <th>SALDO_202205</th>\n      <th>SALDO_202206</th>\n      <th>SALDO_202207</th>\n      <th>SALDO_202208</th>\n      <th>SALDO_202210</th>\n    </tr>\n    <tr>\n      <th>NroDocum</th>\n      <th></th>\n      <th></th>\n      <th></th>\n      <th></th>\n      <th></th>\n      <th></th>\n      <th></th>\n      <th></th>\n      <th></th>\n      <th></th>\n      <th></th>\n      <th></th>\n      <th></th>\n      <th></th>\n      <th></th>\n      <th></th>\n      <th></th>\n      <th></th>\n      <th></th>\n      <th></th>\n      <th></th>\n    </tr>\n  </thead>\n  <tbody>\n    <tr>\n      <th>1000001634</th>\n      <td>[9950268]</td>\n      <td>[4899]</td>\n      <td>47092297.99</td>\n      <td>46315661.29</td>\n      <td>45229127.61</td>\n      <td>45298456.10</td>\n      <td>47140239.11</td>\n      <td>4.692357e+07</td>\n      <td>5.173611e+07</td>\n      <td>5.086159e+07</td>\n      <td>...</td>\n      <td>5.161528e+07</td>\n      <td>4.999541e+07</td>\n      <td>5.090699e+07</td>\n      <td>4.823857e+07</td>\n      <td>50249882.12</td>\n      <td>48430969.50</td>\n      <td>48976166.48</td>\n      <td>50399995.40</td>\n      <td>49148602.10</td>\n      <td>4.967498e+07</td>\n    </tr>\n    <tr>\n      <th>1000004345</th>\n      <td>[8629082, 6261343, 6133677, 9374655, 5919728]</td>\n      <td>[3376, 8404]</td>\n      <td>0.00</td>\n      <td>0.00</td>\n      <td>0.00</td>\n      <td>0.00</td>\n      <td>0.00</td>\n      <td>0.000000e+00</td>\n      <td>0.000000e+00</td>\n      <td>0.000000e+00</td>\n      <td>...</td>\n      <td>0.000000e+00</td>\n      <td>0.000000e+00</td>\n      <td>0.000000e+00</td>\n      <td>0.000000e+00</td>\n      <td>0.00</td>\n      <td>0.00</td>\n      <td>0.00</td>\n      <td>0.00</td>\n      <td>0.00</td>\n      <td>0.000000e+00</td>\n    </tr>\n    <tr>\n      <th>1000005362</th>\n      <td>[6845989]</td>\n      <td>[7256]</td>\n      <td>0.00</td>\n      <td>0.00</td>\n      <td>0.00</td>\n      <td>0.00</td>\n      <td>0.00</td>\n      <td>0.000000e+00</td>\n      <td>0.000000e+00</td>\n      <td>0.000000e+00</td>\n      <td>...</td>\n      <td>0.000000e+00</td>\n      <td>0.000000e+00</td>\n      <td>0.000000e+00</td>\n      <td>0.000000e+00</td>\n      <td>0.00</td>\n      <td>0.00</td>\n      <td>0.00</td>\n      <td>0.00</td>\n      <td>0.00</td>\n      <td>0.000000e+00</td>\n    </tr>\n    <tr>\n      <th>1000005396</th>\n      <td>[5835760]</td>\n      <td>[7256]</td>\n      <td>0.00</td>\n      <td>0.00</td>\n      <td>0.00</td>\n      <td>0.00</td>\n      <td>0.00</td>\n      <td>0.000000e+00</td>\n      <td>0.000000e+00</td>\n      <td>0.000000e+00</td>\n      <td>...</td>\n      <td>0.000000e+00</td>\n      <td>0.000000e+00</td>\n      <td>0.000000e+00</td>\n      <td>0.000000e+00</td>\n      <td>0.00</td>\n      <td>0.00</td>\n      <td>0.00</td>\n      <td>0.00</td>\n      <td>0.00</td>\n      <td>0.000000e+00</td>\n    </tr>\n    <tr>\n      <th>1000007479</th>\n      <td>[2779865]</td>\n      <td>[8404]</td>\n      <td>90932411.58</td>\n      <td>93993197.01</td>\n      <td>96553396.47</td>\n      <td>99759806.09</td>\n      <td>99628363.77</td>\n      <td>1.088142e+08</td>\n      <td>1.089287e+08</td>\n      <td>1.152094e+08</td>\n      <td>...</td>\n      <td>1.269493e+08</td>\n      <td>1.304447e+08</td>\n      <td>1.304298e+08</td>\n      <td>1.365314e+08</td>\n      <td>36996395.24</td>\n      <td>39371555.32</td>\n      <td>42176765.55</td>\n      <td>45424357.88</td>\n      <td>50964795.04</td>\n      <td>2.548386e+08</td>\n    </tr>\n    <tr>\n      <th>1000007557</th>\n      <td>[7095683]</td>\n      <td>[7256]</td>\n      <td>0.00</td>\n      <td>0.00</td>\n      <td>0.00</td>\n      <td>0.00</td>\n      <td>0.00</td>\n      <td>0.000000e+00</td>\n      <td>0.000000e+00</td>\n      <td>0.000000e+00</td>\n      <td>...</td>\n      <td>0.000000e+00</td>\n      <td>0.000000e+00</td>\n      <td>0.000000e+00</td>\n      <td>0.000000e+00</td>\n      <td>0.00</td>\n      <td>0.00</td>\n      <td>0.00</td>\n      <td>0.00</td>\n      <td>0.00</td>\n      <td>0.000000e+00</td>\n    </tr>\n    <tr>\n      <th>1000008577</th>\n      <td>[4620527]</td>\n      <td>[6803]</td>\n      <td>0.00</td>\n      <td>0.00</td>\n      <td>0.00</td>\n      <td>0.00</td>\n      <td>0.00</td>\n      <td>0.000000e+00</td>\n      <td>0.000000e+00</td>\n      <td>0.000000e+00</td>\n      <td>...</td>\n      <td>0.000000e+00</td>\n      <td>0.000000e+00</td>\n      <td>0.000000e+00</td>\n      <td>0.000000e+00</td>\n      <td>0.00</td>\n      <td>0.00</td>\n      <td>0.00</td>\n      <td>0.00</td>\n      <td>0.00</td>\n      <td>0.000000e+00</td>\n    </tr>\n    <tr>\n      <th>1000008826</th>\n      <td>[2712448, 7337966, 5048101]</td>\n      <td>[7256]</td>\n      <td>0.00</td>\n      <td>0.00</td>\n      <td>0.00</td>\n      <td>0.00</td>\n      <td>0.00</td>\n      <td>0.000000e+00</td>\n      <td>0.000000e+00</td>\n      <td>0.000000e+00</td>\n      <td>...</td>\n      <td>0.000000e+00</td>\n      <td>0.000000e+00</td>\n      <td>0.000000e+00</td>\n      <td>0.000000e+00</td>\n      <td>0.00</td>\n      <td>0.00</td>\n      <td>0.00</td>\n      <td>0.00</td>\n      <td>0.00</td>\n      <td>0.000000e+00</td>\n    </tr>\n    <tr>\n      <th>1000009088</th>\n      <td>[5863862]</td>\n      <td>[7256]</td>\n      <td>0.00</td>\n      <td>0.00</td>\n      <td>0.00</td>\n      <td>0.00</td>\n      <td>0.00</td>\n      <td>0.000000e+00</td>\n      <td>0.000000e+00</td>\n      <td>0.000000e+00</td>\n      <td>...</td>\n      <td>0.000000e+00</td>\n      <td>0.000000e+00</td>\n      <td>0.000000e+00</td>\n      <td>0.000000e+00</td>\n      <td>0.00</td>\n      <td>0.00</td>\n      <td>0.00</td>\n      <td>0.00</td>\n      <td>0.00</td>\n      <td>0.000000e+00</td>\n    </tr>\n    <tr>\n      <th>1000009152</th>\n      <td>[6053184]</td>\n      <td>[8404]</td>\n      <td>0.00</td>\n      <td>0.00</td>\n      <td>0.00</td>\n      <td>0.00</td>\n      <td>0.00</td>\n      <td>0.000000e+00</td>\n      <td>0.000000e+00</td>\n      <td>0.000000e+00</td>\n      <td>...</td>\n      <td>0.000000e+00</td>\n      <td>0.000000e+00</td>\n      <td>0.000000e+00</td>\n      <td>0.000000e+00</td>\n      <td>0.00</td>\n      <td>0.00</td>\n      <td>0.00</td>\n      <td>0.00</td>\n      <td>0.00</td>\n      <td>0.000000e+00</td>\n    </tr>\n    <tr>\n      <th>1000014510</th>\n      <td>[2693232, 4583487, 2040989]</td>\n      <td>[7256]</td>\n      <td>0.00</td>\n      <td>0.00</td>\n      <td>0.00</td>\n      <td>0.00</td>\n      <td>0.00</td>\n      <td>0.000000e+00</td>\n      <td>0.000000e+00</td>\n      <td>0.000000e+00</td>\n      <td>...</td>\n      <td>0.000000e+00</td>\n      <td>0.000000e+00</td>\n      <td>0.000000e+00</td>\n      <td>0.000000e+00</td>\n      <td>0.00</td>\n      <td>0.00</td>\n      <td>0.00</td>\n      <td>0.00</td>\n      <td>0.00</td>\n      <td>0.000000e+00</td>\n    </tr>\n    <tr>\n      <th>1000016523</th>\n      <td>[1115146, 1757806]</td>\n      <td>[7256]</td>\n      <td>0.00</td>\n      <td>0.00</td>\n      <td>0.00</td>\n      <td>0.00</td>\n      <td>0.00</td>\n      <td>0.000000e+00</td>\n      <td>0.000000e+00</td>\n      <td>0.000000e+00</td>\n      <td>...</td>\n      <td>0.000000e+00</td>\n      <td>0.000000e+00</td>\n      <td>0.000000e+00</td>\n      <td>0.000000e+00</td>\n      <td>0.00</td>\n      <td>0.00</td>\n      <td>0.00</td>\n      <td>0.00</td>\n      <td>0.00</td>\n      <td>0.000000e+00</td>\n    </tr>\n    <tr>\n      <th>1000019316</th>\n      <td>[959431]</td>\n      <td>[7256]</td>\n      <td>0.00</td>\n      <td>0.00</td>\n      <td>0.00</td>\n      <td>0.00</td>\n      <td>0.00</td>\n      <td>0.000000e+00</td>\n      <td>0.000000e+00</td>\n      <td>0.000000e+00</td>\n      <td>...</td>\n      <td>0.000000e+00</td>\n      <td>0.000000e+00</td>\n      <td>0.000000e+00</td>\n      <td>0.000000e+00</td>\n      <td>0.00</td>\n      <td>0.00</td>\n      <td>0.00</td>\n      <td>0.00</td>\n      <td>0.00</td>\n      <td>0.000000e+00</td>\n    </tr>\n    <tr>\n      <th>1000022061</th>\n      <td>[8080736]</td>\n      <td>[7256]</td>\n      <td>0.00</td>\n      <td>0.00</td>\n      <td>0.00</td>\n      <td>0.00</td>\n      <td>0.00</td>\n      <td>0.000000e+00</td>\n      <td>0.000000e+00</td>\n      <td>0.000000e+00</td>\n      <td>...</td>\n      <td>0.000000e+00</td>\n      <td>0.000000e+00</td>\n      <td>0.000000e+00</td>\n      <td>0.000000e+00</td>\n      <td>0.00</td>\n      <td>0.00</td>\n      <td>0.00</td>\n      <td>0.00</td>\n      <td>0.00</td>\n      <td>0.000000e+00</td>\n    </tr>\n    <tr>\n      <th>1000023105</th>\n      <td>[4883411, 4949565, 1378120]</td>\n      <td>[7256, 3376]</td>\n      <td>0.00</td>\n      <td>0.00</td>\n      <td>0.00</td>\n      <td>0.00</td>\n      <td>0.00</td>\n      <td>0.000000e+00</td>\n      <td>0.000000e+00</td>\n      <td>0.000000e+00</td>\n      <td>...</td>\n      <td>0.000000e+00</td>\n      <td>0.000000e+00</td>\n      <td>0.000000e+00</td>\n      <td>0.000000e+00</td>\n      <td>0.00</td>\n      <td>0.00</td>\n      <td>0.00</td>\n      <td>0.00</td>\n      <td>0.00</td>\n      <td>0.000000e+00</td>\n    </tr>\n    <tr>\n      <th>1000025338</th>\n      <td>[5214744]</td>\n      <td>[8404]</td>\n      <td>0.00</td>\n      <td>0.00</td>\n      <td>0.00</td>\n      <td>0.00</td>\n      <td>0.00</td>\n      <td>0.000000e+00</td>\n      <td>0.000000e+00</td>\n      <td>0.000000e+00</td>\n      <td>...</td>\n      <td>0.000000e+00</td>\n      <td>0.000000e+00</td>\n      <td>0.000000e+00</td>\n      <td>0.000000e+00</td>\n      <td>0.00</td>\n      <td>0.00</td>\n      <td>0.00</td>\n      <td>0.00</td>\n      <td>0.00</td>\n      <td>0.000000e+00</td>\n    </tr>\n    <tr>\n      <th>1000029335</th>\n      <td>[867595, 8259296, 1356475, 698623, 2517853]</td>\n      <td>[3376, 7256, 5149]</td>\n      <td>0.00</td>\n      <td>0.00</td>\n      <td>0.00</td>\n      <td>0.00</td>\n      <td>0.00</td>\n      <td>0.000000e+00</td>\n      <td>0.000000e+00</td>\n      <td>0.000000e+00</td>\n      <td>...</td>\n      <td>0.000000e+00</td>\n      <td>0.000000e+00</td>\n      <td>0.000000e+00</td>\n      <td>0.000000e+00</td>\n      <td>0.00</td>\n      <td>0.00</td>\n      <td>0.00</td>\n      <td>0.00</td>\n      <td>0.00</td>\n      <td>0.000000e+00</td>\n    </tr>\n    <tr>\n      <th>1000031342</th>\n      <td>[305779, 7754438, 588029]</td>\n      <td>[3376]</td>\n      <td>0.00</td>\n      <td>0.00</td>\n      <td>0.00</td>\n      <td>0.00</td>\n      <td>0.00</td>\n      <td>0.000000e+00</td>\n      <td>0.000000e+00</td>\n      <td>0.000000e+00</td>\n      <td>...</td>\n      <td>0.000000e+00</td>\n      <td>0.000000e+00</td>\n      <td>0.000000e+00</td>\n      <td>0.000000e+00</td>\n      <td>0.00</td>\n      <td>0.00</td>\n      <td>0.00</td>\n      <td>0.00</td>\n      <td>0.00</td>\n      <td>0.000000e+00</td>\n    </tr>\n    <tr>\n      <th>1000031391</th>\n      <td>[4481719]</td>\n      <td>[8404]</td>\n      <td>86798041.35</td>\n      <td>86355391.89</td>\n      <td>84853932.59</td>\n      <td>85202839.92</td>\n      <td>84888894.86</td>\n      <td>8.509949e+07</td>\n      <td>8.512865e+07</td>\n      <td>8.589255e+07</td>\n      <td>...</td>\n      <td>8.535468e+07</td>\n      <td>8.533468e+07</td>\n      <td>8.505437e+07</td>\n      <td>8.509428e+07</td>\n      <td>84658168.92</td>\n      <td>81466417.69</td>\n      <td>83839682.14</td>\n      <td>84389540.09</td>\n      <td>85699850.96</td>\n      <td>1.437901e+08</td>\n    </tr>\n    <tr>\n      <th>1000033657</th>\n      <td>[6701526]</td>\n      <td>[7256]</td>\n      <td>0.00</td>\n      <td>0.00</td>\n      <td>0.00</td>\n      <td>0.00</td>\n      <td>0.00</td>\n      <td>0.000000e+00</td>\n      <td>0.000000e+00</td>\n      <td>0.000000e+00</td>\n      <td>...</td>\n      <td>0.000000e+00</td>\n      <td>0.000000e+00</td>\n      <td>0.000000e+00</td>\n      <td>0.000000e+00</td>\n      <td>0.00</td>\n      <td>0.00</td>\n      <td>0.00</td>\n      <td>0.00</td>\n      <td>0.00</td>\n      <td>0.000000e+00</td>\n    </tr>\n  </tbody>\n</table>\n<p>20 rows × 23 columns</p>\n</div>"
     },
     "execution_count": 27,
     "metadata": {},
     "output_type": "execute_result"
    }
   ],
   "source": [
    "import pyarrow.parquet as pq\n",
    "import pandas as pd\n",
    "from datetime import datetime as dt\n",
    "import numpy\n",
    "\n",
    "saldos = pq.read_table('0saldos.parquet').to_pandas()\n",
    "saldos = saldos.loc[saldos['TipoDocum'] == 'C ']\n",
    "# saldos\n",
    "# Realizar la agrupación y especificar cómo agregar las columnas utilizando regex\n",
    "# resultados_agrupados = df.groupby('columna_agrupadora').apply(lambda x: x.filter(regex=regex_a_mantener))\n",
    "\n",
    "conteo_contratos_por_cliente = saldos.groupby('NroDocum').agg(\n",
    "    Contrato=('Contrato', list),\n",
    "    Productos=('PlanProducto', list),\n",
    "    **{col: (col, 'first') for col in saldos.columns if col not in ['NroDocum', 'Contrato', 'PlanProducto', 'TipoDocum', 'SALDO_202209']}\n",
    ")\n",
    "# conteo_contratos_por_cliente['Saldo2022Aug'] = conteo_contratos_por_cliente['Saldo2022Aug'].apply(lambda x: list(set(x)))\n",
    "conteo_contratos_por_cliente['Productos'] = conteo_contratos_por_cliente['Productos'].apply(lambda x: list(set(x)))\n",
    "\n",
    "conteo_contratos_por_cliente.head(20)"
   ],
   "metadata": {
    "collapsed": true,
    "ExecuteTime": {
     "end_time": "2024-03-29T20:43:00.009529Z",
     "start_time": "2024-03-29T20:42:58.624717Z"
    }
   },
   "id": "initial_id",
   "execution_count": 27
  },
  {
   "cell_type": "markdown",
   "source": [
    "Ahora leeremos las transferencias, dado que necesitamos el valor neto de las operaciones por mes, agruparemos la información a nivel mes para tener un historial ordenado."
   ],
   "metadata": {
    "collapsed": false
   },
   "id": "23850174c936877a"
  },
  {
   "cell_type": "code",
   "outputs": [
    {
     "data": {
      "text/plain": "        Contrato FechaEfectiva  ValorTransaccion Productos\n0          10359    2021-01-01       10000000.00    [4899]\n1          10359    2021-08-01       10000000.00    [4899]\n2          10359    2022-06-01       50000000.00    [4899]\n3          10359    2022-07-01      -45120000.00    [4899]\n4          10359    2022-10-01      -25000000.00    [4899]\n...          ...           ...               ...       ...\n207128   9999852    2021-11-01      -33008997.44    [7256]\n207129   9999884    2021-01-01      -33384841.00    [4899]\n207130   9999898    2021-07-01        7000000.00    [7256]\n207131   9999898    2021-09-01        5000000.00    [7256]\n207132   9999898    2022-02-01        4000000.00    [7256]\n\n[207133 rows x 4 columns]",
      "text/html": "<div>\n<style scoped>\n    .dataframe tbody tr th:only-of-type {\n        vertical-align: middle;\n    }\n\n    .dataframe tbody tr th {\n        vertical-align: top;\n    }\n\n    .dataframe thead th {\n        text-align: right;\n    }\n</style>\n<table border=\"1\" class=\"dataframe\">\n  <thead>\n    <tr style=\"text-align: right;\">\n      <th></th>\n      <th>Contrato</th>\n      <th>FechaEfectiva</th>\n      <th>ValorTransaccion</th>\n      <th>Productos</th>\n    </tr>\n  </thead>\n  <tbody>\n    <tr>\n      <th>0</th>\n      <td>10359</td>\n      <td>2021-01-01</td>\n      <td>10000000.00</td>\n      <td>[4899]</td>\n    </tr>\n    <tr>\n      <th>1</th>\n      <td>10359</td>\n      <td>2021-08-01</td>\n      <td>10000000.00</td>\n      <td>[4899]</td>\n    </tr>\n    <tr>\n      <th>2</th>\n      <td>10359</td>\n      <td>2022-06-01</td>\n      <td>50000000.00</td>\n      <td>[4899]</td>\n    </tr>\n    <tr>\n      <th>3</th>\n      <td>10359</td>\n      <td>2022-07-01</td>\n      <td>-45120000.00</td>\n      <td>[4899]</td>\n    </tr>\n    <tr>\n      <th>4</th>\n      <td>10359</td>\n      <td>2022-10-01</td>\n      <td>-25000000.00</td>\n      <td>[4899]</td>\n    </tr>\n    <tr>\n      <th>...</th>\n      <td>...</td>\n      <td>...</td>\n      <td>...</td>\n      <td>...</td>\n    </tr>\n    <tr>\n      <th>207128</th>\n      <td>9999852</td>\n      <td>2021-11-01</td>\n      <td>-33008997.44</td>\n      <td>[7256]</td>\n    </tr>\n    <tr>\n      <th>207129</th>\n      <td>9999884</td>\n      <td>2021-01-01</td>\n      <td>-33384841.00</td>\n      <td>[4899]</td>\n    </tr>\n    <tr>\n      <th>207130</th>\n      <td>9999898</td>\n      <td>2021-07-01</td>\n      <td>7000000.00</td>\n      <td>[7256]</td>\n    </tr>\n    <tr>\n      <th>207131</th>\n      <td>9999898</td>\n      <td>2021-09-01</td>\n      <td>5000000.00</td>\n      <td>[7256]</td>\n    </tr>\n    <tr>\n      <th>207132</th>\n      <td>9999898</td>\n      <td>2022-02-01</td>\n      <td>4000000.00</td>\n      <td>[7256]</td>\n    </tr>\n  </tbody>\n</table>\n<p>207133 rows × 4 columns</p>\n</div>"
     },
     "execution_count": 8,
     "metadata": {},
     "output_type": "execute_result"
    }
   ],
   "source": [
    "transferencias = pq.read_table('0transferencias.parquet').to_pandas()\n",
    "transferencias.drop(\n",
    "    columns=['Usuario', 'CodDestino', 'CodTipoGiro', 'CodBancoDestinoACH', 'CodBancoSkandia', 'TipoCtaACH', 'TipoOper',\n",
    "             'EstadoReverso'], inplace=True)\n",
    "transferencias.sort_values(by='FechaEfectiva', ascending=True, inplace=True)\n",
    "transferencias.FechaEfectiva = pd.to_datetime(transferencias.FechaEfectiva, format='%Y-%m-%d')\n",
    "\n",
    "# Agrupar las transacciones por mes y sumar los valores\n",
    "transferencias = transferencias.groupby(\n",
    "    [transferencias['Contrato'], transferencias['FechaEfectiva'].dt.to_period('M')], as_index=False\n",
    ").agg(\n",
    "    FechaEfectiva=('FechaEfectiva', 'first'),\n",
    "    ValorTransaccion=('ValorNeto', 'sum'),\n",
    "    Productos=('PlanProducto', list)\n",
    ")\n",
    "transferencias['FechaEfectiva'] = transferencias['FechaEfectiva'].dt.strftime('%Y-%m-01')\n",
    "transferencias['Productos'] = transferencias['Productos'].apply(lambda x: list(set(x)))\n",
    "transferencias"
   ],
   "metadata": {
    "collapsed": false,
    "ExecuteTime": {
     "end_time": "2024-03-29T19:51:40.750771Z",
     "start_time": "2024-03-29T19:51:38.520821Z"
    }
   },
   "id": "be63719d2cb6cd9b",
   "execution_count": 8
  },
  {
   "cell_type": "markdown",
   "source": [
    "Al realzar la lectura del registro de clientes, vemos que no coincide con nuestro registro de saldos. Para mantener coherencia en la información eliminaremos las entradas sobrantes.\n",
    "Realizaremos una fusion entre el dataframe de clientes y saldos. "
   ],
   "metadata": {
    "collapsed": false
   },
   "id": "98f86bd5a196de26"
  },
  {
   "cell_type": "code",
   "outputs": [
    {
     "name": "stdout",
     "output_type": "stream",
     "text": [
      "[1070060609, 1199426185, 1105436267, 1067667956, 1191709847, 1168295676, 1114592927]\n"
     ]
    },
    {
     "data": {
      "text/plain": "       TIPODOCUM                 CIUDAD   FecNacim    NroDocum\n0              C    BOGOTA D.C., BOGOTA 1954-12-16  1092070504\n1              C    BOGOTA D.C., BOGOTA 1969-08-04  1097627287\n2              C    BOGOTA D.C., BOGOTA 1961-08-15  1066619616\n3              C    BOGOTA D.C., BOGOTA 1986-02-08  1079454835\n4              C    MEDELLIN, ANTIOQUIA 1981-01-15  1199126816\n...          ...                    ...        ...         ...\n108087         C    BOGOTA D.C., BOGOTA 1977-09-25  1077819263\n108088         C    BOGOTA D.C., BOGOTA 1964-09-30  1050991361\n108089         C  LA MESA, CUNDINAMARCA 1964-11-23  1117842187\n108090         C    BOGOTA D.C., BOGOTA 1976-07-01  1065109336\n108091         C   MADRID, CUNDINAMARCA 1973-12-16  1013887516\n\n[105627 rows x 4 columns]",
      "text/html": "<div>\n<style scoped>\n    .dataframe tbody tr th:only-of-type {\n        vertical-align: middle;\n    }\n\n    .dataframe tbody tr th {\n        vertical-align: top;\n    }\n\n    .dataframe thead th {\n        text-align: right;\n    }\n</style>\n<table border=\"1\" class=\"dataframe\">\n  <thead>\n    <tr style=\"text-align: right;\">\n      <th></th>\n      <th>TIPODOCUM</th>\n      <th>CIUDAD</th>\n      <th>FecNacim</th>\n      <th>NroDocum</th>\n    </tr>\n  </thead>\n  <tbody>\n    <tr>\n      <th>0</th>\n      <td>C</td>\n      <td>BOGOTA D.C., BOGOTA</td>\n      <td>1954-12-16</td>\n      <td>1092070504</td>\n    </tr>\n    <tr>\n      <th>1</th>\n      <td>C</td>\n      <td>BOGOTA D.C., BOGOTA</td>\n      <td>1969-08-04</td>\n      <td>1097627287</td>\n    </tr>\n    <tr>\n      <th>2</th>\n      <td>C</td>\n      <td>BOGOTA D.C., BOGOTA</td>\n      <td>1961-08-15</td>\n      <td>1066619616</td>\n    </tr>\n    <tr>\n      <th>3</th>\n      <td>C</td>\n      <td>BOGOTA D.C., BOGOTA</td>\n      <td>1986-02-08</td>\n      <td>1079454835</td>\n    </tr>\n    <tr>\n      <th>4</th>\n      <td>C</td>\n      <td>MEDELLIN, ANTIOQUIA</td>\n      <td>1981-01-15</td>\n      <td>1199126816</td>\n    </tr>\n    <tr>\n      <th>...</th>\n      <td>...</td>\n      <td>...</td>\n      <td>...</td>\n      <td>...</td>\n    </tr>\n    <tr>\n      <th>108087</th>\n      <td>C</td>\n      <td>BOGOTA D.C., BOGOTA</td>\n      <td>1977-09-25</td>\n      <td>1077819263</td>\n    </tr>\n    <tr>\n      <th>108088</th>\n      <td>C</td>\n      <td>BOGOTA D.C., BOGOTA</td>\n      <td>1964-09-30</td>\n      <td>1050991361</td>\n    </tr>\n    <tr>\n      <th>108089</th>\n      <td>C</td>\n      <td>LA MESA, CUNDINAMARCA</td>\n      <td>1964-11-23</td>\n      <td>1117842187</td>\n    </tr>\n    <tr>\n      <th>108090</th>\n      <td>C</td>\n      <td>BOGOTA D.C., BOGOTA</td>\n      <td>1976-07-01</td>\n      <td>1065109336</td>\n    </tr>\n    <tr>\n      <th>108091</th>\n      <td>C</td>\n      <td>MADRID, CUNDINAMARCA</td>\n      <td>1973-12-16</td>\n      <td>1013887516</td>\n    </tr>\n  </tbody>\n</table>\n<p>105627 rows × 4 columns</p>\n</div>"
     },
     "execution_count": 23,
     "metadata": {},
     "output_type": "execute_result"
    }
   ],
   "source": [
    "\n",
    "clientes = pq.read_table('0clientes.parquet').to_pandas()\n",
    "clientes = clientes.loc[clientes['TIPODOCUM'] == 'C']\n",
    "clientes.drop(\n",
    "    columns=['EnvioExtractos'], inplace=True)\n",
    "\n",
    "missings = list(set(saldos.NroDocum.drop_duplicates().values) - set(clientes.NroDocum.values))\n",
    "print(missings)\n",
    "mask = clientes['NroDocum'].isin(missings)\n",
    "clientes = clientes[~mask]\n",
    "\n",
    "clientes"
   ],
   "metadata": {
    "collapsed": false,
    "ExecuteTime": {
     "end_time": "2024-03-29T20:36:52.224237Z",
     "start_time": "2024-03-29T20:36:52.132818Z"
    }
   },
   "id": "af93361998f09564",
   "execution_count": 23
  },
  {
   "cell_type": "code",
   "outputs": [],
   "source": [],
   "metadata": {
    "collapsed": false,
    "ExecuteTime": {
     "end_time": "2024-03-29T19:48:55.321696Z",
     "start_time": "2024-03-29T19:48:55.301911Z"
    }
   },
   "id": "92f28ad28aa9b2f",
   "execution_count": 4
  }
 ],
 "metadata": {
  "kernelspec": {
   "display_name": "Python 3",
   "language": "python",
   "name": "python3"
  },
  "language_info": {
   "codemirror_mode": {
    "name": "ipython",
    "version": 2
   },
   "file_extension": ".py",
   "mimetype": "text/x-python",
   "name": "python",
   "nbconvert_exporter": "python",
   "pygments_lexer": "ipython2",
   "version": "2.7.6"
  }
 },
 "nbformat": 4,
 "nbformat_minor": 5
}
